{
 "cells": [
  {
   "cell_type": "code",
   "execution_count": 18,
   "metadata": {},
   "outputs": [],
   "source": [
    "import pandas as pd\n",
    "from sklearn.preprocessing import LabelEncoder\n",
    "import warnings\n",
    "warnings.filterwarnings(\"ignore\")\n",
    "\n",
    "df = pd.read_csv(\"../drugs.csv\")"
   ]
  },
  {
   "cell_type": "markdown",
   "metadata": {},
   "source": [
    "##### Se convierten columnas cualitativas a numéricas:"
   ]
  },
  {
   "cell_type": "code",
   "execution_count": 19,
   "metadata": {},
   "outputs": [
    {
     "name": "stdout",
     "output_type": "stream",
     "text": [
      "   Age  Sex  BP  Cholesterol  Na_to_K  Drug\n",
      "0   23    0   0            0   25.355     4\n",
      "1   47    1   1            0   13.093     2\n",
      "2   47    1   1            0   10.114     2\n",
      "3   28    0   2            0    7.798     3\n",
      "4   61    0   1            0   18.043     4\n"
     ]
    }
   ],
   "source": [
    "cualitativas = df.select_dtypes(include=['object']).columns\n",
    "label_encoder = LabelEncoder()\n",
    "for col in cualitativas:\n",
    "    df[col] = label_encoder.fit_transform(df[col])\n",
    "print(df.head())"
   ]
  },
  {
   "cell_type": "markdown",
   "metadata": {},
   "source": [
    "## Random Forest"
   ]
  },
  {
   "cell_type": "code",
   "execution_count": 20,
   "metadata": {},
   "outputs": [
    {
     "name": "stdout",
     "output_type": "stream",
     "text": [
      "Matriz de Confusión: \n",
      ", [[ 4  0  0  0  0]\n",
      " [ 0  2  0  0  0]\n",
      " [ 0  0  3  1  0]\n",
      " [ 0  0  0 13  0]\n",
      " [ 0  0  0  0 17]]\n",
      "Informe de Clasificación:\n",
      ",               precision    recall  f1-score   support\n",
      "\n",
      "           0       1.00      1.00      1.00         4\n",
      "           1       1.00      1.00      1.00         2\n",
      "           2       1.00      0.75      0.86         4\n",
      "           3       0.93      1.00      0.96        13\n",
      "           4       1.00      1.00      1.00        17\n",
      "\n",
      "    accuracy                           0.97        40\n",
      "   macro avg       0.99      0.95      0.96        40\n",
      "weighted avg       0.98      0.97      0.97        40\n",
      "\n",
      "Precisión del modelo: 0.97\n"
     ]
    }
   ],
   "source": [
    "from sklearn.model_selection import train_test_split\n",
    "from sklearn.ensemble import RandomForestClassifier\n",
    "from sklearn.metrics import accuracy_score, confusion_matrix, classification_report\n",
    "\n",
    "# Separar las características y la variable objetivo\n",
    "X = df.drop('Drug', axis=1) \n",
    "y = df['Drug']  \n",
    "\n",
    "# Dividir los datos en conjuntos de entrenamiento y prueba\n",
    "X_train, X_test, y_train, y_test = train_test_split(X, y, test_size=0.2, random_state=1)\n",
    "\n",
    "# Crear y entrenar el modelo Random Forest\n",
    "model = RandomForestClassifier(n_estimators=100, random_state=1)\n",
    "model.fit(X_train, y_train)\n",
    "\n",
    "#  Evaluar el modelo\n",
    "y_pred = model.predict(X_test)\n",
    "\n",
    "# Métricas de evaluación\n",
    "accuracy = accuracy_score(y_test, y_pred)\n",
    "conf_matrix = confusion_matrix(y_test, y_pred)\n",
    "class_report = classification_report(y_test, y_pred)\n",
    "\n",
    "print(f'Matriz de Confusión: \\n, {conf_matrix}')\n",
    "print(f'Informe de Clasificación:\\n, {class_report}')\n",
    "print(f'Precisión del modelo: {accuracy:.2f}')"
   ]
  },
  {
   "cell_type": "markdown",
   "metadata": {},
   "source": [
    "## Gradient Boosting"
   ]
  },
  {
   "cell_type": "code",
   "execution_count": 21,
   "metadata": {},
   "outputs": [
    {
     "name": "stdout",
     "output_type": "stream",
     "text": [
      "Matriz de Confusión:\n",
      " [[ 4  0  0  0  0]\n",
      " [ 0  2  0  0  0]\n",
      " [ 0  0  4  0  0]\n",
      " [ 0  0  0 13  0]\n",
      " [ 0  0  0  0 17]]\n",
      "Informe de Clasificación: \n",
      "               precision    recall  f1-score   support\n",
      "\n",
      "           0       1.00      1.00      1.00         4\n",
      "           1       1.00      1.00      1.00         2\n",
      "           2       1.00      1.00      1.00         4\n",
      "           3       1.00      1.00      1.00        13\n",
      "           4       1.00      1.00      1.00        17\n",
      "\n",
      "    accuracy                           1.00        40\n",
      "   macro avg       1.00      1.00      1.00        40\n",
      "weighted avg       1.00      1.00      1.00        40\n",
      "\n",
      "Precisión del modelo: 1.00\n"
     ]
    }
   ],
   "source": [
    "from sklearn.ensemble import GradientBoostingClassifier\n",
    "\n",
    "# Separar las características y la variable objetivo\n",
    "X = df.drop('Drug', axis=1)  \n",
    "y = df['Drug']  \n",
    "\n",
    "# Dividir los datos en conjuntos de entrenamiento y prueba\n",
    "X_train, X_test, y_train, y_test = train_test_split(X, y, test_size=0.2, random_state=1)\n",
    "\n",
    "# Crear y entrenar el modelo Gradient Boosting\n",
    "model = GradientBoostingClassifier(n_estimators=100, random_state=1)\n",
    "model.fit(X_train, y_train)\n",
    "\n",
    "# Evaluar el modelo\n",
    "y_pred = model.predict(X_test)\n",
    "\n",
    "# Métricas de evaluación\n",
    "accuracy = accuracy_score(y_test, y_pred)\n",
    "conf_matrix = confusion_matrix(y_test, y_pred)\n",
    "class_report = classification_report(y_test, y_pred)\n",
    "\n",
    "print('Matriz de Confusión:\\n', conf_matrix)\n",
    "print(f'Informe de Clasificación: \\n {class_report}')\n",
    "print(f'Precisión del modelo: {accuracy:.2f}')"
   ]
  },
  {
   "cell_type": "markdown",
   "metadata": {},
   "source": [
    "## Ada Boost"
   ]
  },
  {
   "cell_type": "code",
   "execution_count": 22,
   "metadata": {},
   "outputs": [
    {
     "name": "stdout",
     "output_type": "stream",
     "text": [
      "Matriz de Confusión:\n",
      " [[ 4  0  0  0  0]\n",
      " [ 2  0  0  0  0]\n",
      " [ 0  0  0  4  0]\n",
      " [ 0  0  0 13  0]\n",
      " [ 0  0  0  0 17]]\n",
      "Informe de Clasificación: \n",
      "               precision    recall  f1-score   support\n",
      "\n",
      "           0       0.67      1.00      0.80         4\n",
      "           1       0.00      0.00      0.00         2\n",
      "           2       0.00      0.00      0.00         4\n",
      "           3       0.76      1.00      0.87        13\n",
      "           4       1.00      1.00      1.00        17\n",
      "\n",
      "    accuracy                           0.85        40\n",
      "   macro avg       0.49      0.60      0.53        40\n",
      "weighted avg       0.74      0.85      0.79        40\n",
      "\n",
      "Precisión del modelo: 0.85\n"
     ]
    }
   ],
   "source": [
    "from sklearn.ensemble import AdaBoostClassifier\n",
    "\n",
    "# Separar las características y la variable objetivo\n",
    "X = df.drop('Drug', axis=1) \n",
    "y = df['Drug'] \n",
    "\n",
    "#  Dividir los datos en conjuntos de entrenamiento y prueba\n",
    "X_train, X_test, y_train, y_test = train_test_split(X, y, test_size=0.2, random_state=1)\n",
    "\n",
    "# Crear y entrenar el modelo AdaBoost\n",
    "model = AdaBoostClassifier(n_estimators=100, random_state=1)\n",
    "model.fit(X_train, y_train)\n",
    "\n",
    "# Evaluar el modelo\n",
    "y_pred = model.predict(X_test)\n",
    "\n",
    "# Métricas de evaluación\n",
    "accuracy = accuracy_score(y_test, y_pred)\n",
    "conf_matrix = confusion_matrix(y_test, y_pred)\n",
    "class_report = classification_report(y_test, y_pred)\n",
    "\n",
    "print('Matriz de Confusión:\\n', conf_matrix)\n",
    "print(f'Informe de Clasificación: \\n {class_report}')\n",
    "print(f'Precisión del modelo: {accuracy:.2f}')"
   ]
  },
  {
   "cell_type": "markdown",
   "metadata": {},
   "source": [
    "##### El modelo que mejores resultados obtuvo fue \"Gradient Boost\", seguido de \"Random Forest\" y por último \"Ada Boost\". La diferencia entre Gradient Goost y random forest no es demasiada, pero si mejor en la primera"
   ]
  }
 ],
 "metadata": {
  "kernelspec": {
   "display_name": "Python 3",
   "language": "python",
   "name": "python3"
  },
  "language_info": {
   "codemirror_mode": {
    "name": "ipython",
    "version": 3
   },
   "file_extension": ".py",
   "mimetype": "text/x-python",
   "name": "python",
   "nbconvert_exporter": "python",
   "pygments_lexer": "ipython3",
   "version": "3.12.3"
  }
 },
 "nbformat": 4,
 "nbformat_minor": 2
}
